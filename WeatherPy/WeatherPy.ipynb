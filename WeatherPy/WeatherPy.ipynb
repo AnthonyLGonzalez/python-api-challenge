{
 "cells": [
  {
   "cell_type": "markdown",
   "metadata": {},
   "source": [
    "# WeatherPy\n",
    "----\n",
    "\n",
    "#### Note\n",
    "* Instructions have been included for each segment. You do not have to follow them exactly, but they are included to help you think through the steps."
   ]
  },
  {
   "cell_type": "code",
   "execution_count": 1,
   "metadata": {
    "scrolled": true
   },
   "outputs": [],
   "source": [
    "# Dependencies and Setup\n",
    "import matplotlib.pyplot as plt\n",
    "import pandas as pd\n",
    "import numpy as np\n",
    "import requests\n",
    "import time\n",
    "from scipy.stats import linregress\n",
    "\n",
    "# Import API key\n",
    "from api_keys import weather_api_key\n",
    "\n",
    "# Incorporated citipy to determine city based on latitude and longitude\n",
    "from citipy import citipy\n",
    "\n",
    "# Output File (CSV)\n",
    "output_data_file = \"output_data/cities.csv\"\n",
    "\n",
    "# Range of latitudes and longitudes\n",
    "lat_range = (-90, 90)\n",
    "lng_range = (-180, 180)"
   ]
  },
  {
   "cell_type": "markdown",
   "metadata": {},
   "source": [
    "## Generate Cities List"
   ]
  },
  {
   "cell_type": "code",
   "execution_count": 2,
   "metadata": {},
   "outputs": [
    {
     "data": {
      "text/plain": [
       "612"
      ]
     },
     "execution_count": 2,
     "metadata": {},
     "output_type": "execute_result"
    }
   ],
   "source": [
    "# List for holding lat_lngs and cities\n",
    "lat_lngs = []\n",
    "cities = []\n",
    "\n",
    "# Create a set of random lat and lng combinations\n",
    "lats = np.random.uniform(lat_range[0], lat_range[1], size=1500)\n",
    "lngs = np.random.uniform(lng_range[0], lng_range[1], size=1500)\n",
    "lat_lngs = zip(lats, lngs)\n",
    "\n",
    "# Identify nearest city for each lat, lng combination\n",
    "for lat_lng in lat_lngs:\n",
    "    city = citipy.nearest_city(lat_lng[0], lat_lng[1]).city_name\n",
    "    \n",
    "    # If the city is unique, then add it to a our cities list\n",
    "    if city not in cities:\n",
    "        cities.append(city)\n",
    "\n",
    "# Print the city count to confirm sufficient count\n",
    "len(cities)"
   ]
  },
  {
   "cell_type": "code",
   "execution_count": 3,
   "metadata": {},
   "outputs": [
    {
     "name": "stdout",
     "output_type": "stream",
     "text": [
      "{'coord': {'lon': 115.3333, 'lat': -33.65}, 'weather': [{'id': 500, 'main': 'Rain', 'description': 'light rain', 'icon': '10d'}], 'base': 'stations', 'main': {'temp': 282.62, 'feels_like': 282.62, 'temp_min': 282.62, 'temp_max': 282.62, 'pressure': 1011, 'humidity': 72, 'sea_level': 1011, 'grnd_level': 1011}, 'visibility': 10000, 'wind': {'speed': 0.71, 'deg': 128, 'gust': 1.94}, 'rain': {'1h': 0.25}, 'clouds': {'all': 97}, 'dt': 1635205693, 'sys': {'type': 2, 'id': 2020551, 'country': 'AU', 'sunrise': 1635197084, 'sunset': 1635244819}, 'timezone': 28800, 'id': 2075265, 'name': 'Busselton', 'cod': 200}\n"
     ]
    }
   ],
   "source": [
    "#URL\n",
    "url = \"http://api.openweathermap.org/data/2.5/weather?\"\n"
   ]
  },
  {
   "cell_type": "code",
   "execution_count": 4,
   "metadata": {},
   "outputs": [],
   "source": [
    "#set up lists to hold weather response data information\n",
    "lat = []\n",
    "lon = []\n",
    "temp_max = []\n",
    "temp = []\n",
    "humidity = []\n",
    "cloudiness = []\n",
    "wind_speed = []\n",
    "country = []\n",
    "date = []\n",
    "cities_append = []"
   ]
  },
  {
   "cell_type": "code",
   "execution_count": 5,
   "metadata": {},
   "outputs": [
    {
     "name": "stdout",
     "output_type": "stream",
     "text": [
      "Processing Record 0 of Set 1 | georgetown \n",
      "illoqqortoormiut not found. Skipping...\n",
      "Processing Record 1 of Set 2 | vrede \n",
      "Processing Record 2 of Set 2 | khatanga \n",
      "Processing Record 3 of Set 2 | methoni \n",
      "Processing Record 4 of Set 2 | sakakah \n",
      "Processing Record 5 of Set 2 | la asuncion \n",
      "Processing Record 6 of Set 2 | chitral \n",
      "Processing Record 7 of Set 2 | ushuaia \n",
      "Processing Record 8 of Set 2 | naze \n",
      "Processing Record 9 of Set 2 | kargopol \n",
      "Processing Record 10 of Set 2 | vanavara \n",
      "Processing Record 11 of Set 2 | punta arenas \n",
      "Processing Record 12 of Set 2 | dandong \n",
      "barentsburg not found. Skipping...\n",
      "Processing Record 13 of Set 3 | mehamn \n",
      "Processing Record 14 of Set 3 | saskylakh \n",
      "Processing Record 15 of Set 3 | hermanus \n",
      "Processing Record 16 of Set 3 | ereymentau \n",
      "Processing Record 17 of Set 3 | port elizabeth \n",
      "Processing Record 18 of Set 3 | barrow \n",
      "Processing Record 19 of Set 3 | gat \n",
      "Processing Record 20 of Set 3 | tautira \n",
      "Processing Record 21 of Set 3 | batemans bay \n",
      "Processing Record 22 of Set 3 | severo-kurilsk \n",
      "Processing Record 23 of Set 3 | hasaki \n",
      "Processing Record 24 of Set 3 | codrington \n",
      "Processing Record 25 of Set 3 | pisco \n",
      "Processing Record 26 of Set 3 | presidencia roque saenz pena \n",
      "Processing Record 27 of Set 3 | katsuura \n",
      "Processing Record 28 of Set 3 | upernavik \n",
      "Processing Record 29 of Set 3 | cap malheureux \n",
      "Processing Record 30 of Set 3 | kapit \n",
      "Processing Record 31 of Set 3 | lokosovo \n",
      "Processing Record 32 of Set 3 | masuguru \n",
      "Processing Record 33 of Set 3 | port blair \n",
      "nizhneyansk not found. Skipping...\n",
      "Processing Record 34 of Set 4 | port alfred \n",
      "Processing Record 35 of Set 4 | cape town \n",
      "Processing Record 36 of Set 4 | bandarbeyla \n",
      "Processing Record 37 of Set 4 | salima \n",
      "Processing Record 38 of Set 4 | san rafael del sur \n",
      "Processing Record 39 of Set 4 | rikitea \n",
      "Processing Record 40 of Set 4 | hobart \n",
      "babanusah not found. Skipping...\n",
      "Processing Record 41 of Set 5 | garden city \n",
      "Processing Record 42 of Set 5 | grootfontein \n",
      "Processing Record 43 of Set 5 | albany \n",
      "Processing Record 44 of Set 5 | gizo \n",
      "Processing Record 45 of Set 5 | paso de los toros \n",
      "Processing Record 46 of Set 5 | general pico \n",
      "Processing Record 47 of Set 5 | malanje \n",
      "sumbawa not found. Skipping...\n",
      "Processing Record 48 of Set 6 | ribeira grande \n",
      "vaitupu not found. Skipping...\n",
      "Processing Record 49 of Set 7 | chulman \n",
      "Processing Record 50 of Set 7 | carnarvon \n",
      "Processing Record 51 of Set 7 | marienburg \n",
      "Processing Record 52 of Set 7 | qaanaaq \n",
      "Processing Record 53 of Set 7 | thompson \n",
      "Processing Record 54 of Set 7 | hithadhoo \n",
      "Processing Record 55 of Set 7 | adrar \n",
      "Processing Record 56 of Set 7 | lorengau \n",
      "Processing Record 57 of Set 7 | itarema \n",
      "attawapiskat not found. Skipping...\n",
      "Processing Record 58 of Set 8 | ilam \n",
      "Processing Record 59 of Set 8 | pevek \n",
      "Processing Record 60 of Set 8 | bluff \n",
      "Processing Record 61 of Set 8 | elat \n",
      "Processing Record 62 of Set 8 | fairbanks \n",
      "taolanaro not found. Skipping...\n",
      "Processing Record 63 of Set 9 | makrana \n",
      "Processing Record 64 of Set 9 | miraflores \n",
      "Processing Record 65 of Set 9 | mandera \n",
      "Processing Record 66 of Set 9 | irtyshskiy \n",
      "Processing Record 67 of Set 9 | grand-lahou \n",
      "Processing Record 68 of Set 9 | kathmandu \n",
      "Processing Record 69 of Set 9 | saint george \n",
      "Processing Record 70 of Set 9 | kinshasa \n",
      "Processing Record 71 of Set 9 | cidreira \n",
      "Processing Record 72 of Set 9 | taitung \n",
      "Processing Record 73 of Set 9 | kapaa \n",
      "Processing Record 74 of Set 9 | saldanha \n",
      "Processing Record 75 of Set 9 | cayenne \n",
      "Processing Record 76 of Set 9 | khani \n",
      "Processing Record 77 of Set 9 | alofi \n",
      "Processing Record 78 of Set 9 | puerto ayora \n",
      "Processing Record 79 of Set 9 | acapulco \n",
      "Processing Record 80 of Set 9 | vaini \n",
      "Processing Record 81 of Set 9 | hilo \n",
      "Processing Record 82 of Set 9 | vaitape \n",
      "Processing Record 83 of Set 9 | petropavlovsk-kamchatskiy \n",
      "Processing Record 84 of Set 9 | bertoua \n",
      "Processing Record 85 of Set 9 | alghero \n",
      "Processing Record 86 of Set 9 | bredasdorp \n",
      "palabuhanratu not found. Skipping...\n",
      "Processing Record 87 of Set 10 | hambantota \n",
      "Processing Record 88 of Set 10 | terrace \n",
      "Processing Record 89 of Set 10 | progreso \n",
      "Processing Record 90 of Set 10 | ulagan \n",
      "Processing Record 91 of Set 10 | plouzane \n",
      "Processing Record 92 of Set 10 | olafsvik \n",
      "Processing Record 93 of Set 10 | huarmey \n",
      "Processing Record 94 of Set 10 | santa isabel do rio negro \n",
      "Processing Record 95 of Set 10 | liwale \n",
      "Processing Record 96 of Set 10 | asfi \n",
      "Processing Record 97 of Set 10 | airai \n",
      "Processing Record 98 of Set 10 | nikolskoye \n",
      "Processing Record 99 of Set 10 | yellowknife \n",
      "Processing Record 100 of Set 10 | east london \n",
      "Processing Record 101 of Set 10 | sitka \n",
      "Processing Record 102 of Set 10 | zyryanka \n",
      "Processing Record 103 of Set 10 | mar del plata \n",
      "Processing Record 104 of Set 10 | tuktoyaktuk \n",
      "Processing Record 105 of Set 10 | marsaxlokk \n",
      "Processing Record 106 of Set 10 | dikson \n",
      "Processing Record 107 of Set 10 | izhma \n",
      "Processing Record 108 of Set 10 | jogbani \n",
      "Processing Record 109 of Set 10 | xuddur \n",
      "Processing Record 110 of Set 10 | kasungu \n",
      "grand river south east not found. Skipping...\n",
      "Processing Record 111 of Set 11 | mataura \n",
      "belushya guba not found. Skipping...\n",
      "Processing Record 112 of Set 12 | ust-nera \n",
      "Processing Record 113 of Set 12 | whitehorse \n",
      "Processing Record 114 of Set 12 | cherskiy \n",
      "Processing Record 115 of Set 12 | atuona \n",
      "Processing Record 116 of Set 12 | lasa \n",
      "Processing Record 117 of Set 12 | guerrero negro \n",
      "Processing Record 118 of Set 12 | kloulklubed \n",
      "Processing Record 119 of Set 12 | ponta do sol \n",
      "Processing Record 120 of Set 12 | jamestown \n",
      "mys shmidta not found. Skipping...\n",
      "Processing Record 121 of Set 13 | kaitong \n",
      "Processing Record 122 of Set 13 | high prairie \n",
      "Processing Record 123 of Set 13 | caravelas \n",
      "sentyabrskiy not found. Skipping...\n",
      "Processing Record 124 of Set 14 | salalah \n",
      "Processing Record 125 of Set 14 | broome \n",
      "Processing Record 126 of Set 14 | constitucion \n",
      "saleaula not found. Skipping...\n",
      "urdzhar not found. Skipping...\n",
      "Processing Record 127 of Set 16 | bambous virieux \n",
      "Processing Record 128 of Set 16 | maniitsoq \n",
      "Processing Record 129 of Set 16 | saint-philippe \n",
      "Processing Record 130 of Set 16 | ilebo \n",
      "Processing Record 131 of Set 16 | rundu \n",
      "Processing Record 132 of Set 16 | oranjemund \n",
      "Processing Record 133 of Set 16 | la rioja \n",
      "Processing Record 134 of Set 16 | stornoway \n",
      "Processing Record 135 of Set 16 | lebu \n",
      "Processing Record 136 of Set 16 | souillac \n",
      "Processing Record 137 of Set 16 | mantua \n",
      "Processing Record 138 of Set 16 | calamar \n",
      "Processing Record 139 of Set 16 | nome \n",
      "Processing Record 140 of Set 16 | kutum \n",
      "Processing Record 141 of Set 16 | clyde river \n",
      "Processing Record 142 of Set 16 | lata \n",
      "Processing Record 143 of Set 16 | faanui \n",
      "Processing Record 144 of Set 16 | padang \n",
      "Processing Record 145 of Set 16 | havoysund \n",
      "Processing Record 146 of Set 16 | broken hill \n",
      "Processing Record 147 of Set 16 | tigre \n",
      "Processing Record 148 of Set 16 | port-gentil \n",
      "Processing Record 149 of Set 16 | banyo \n",
      "Processing Record 150 of Set 16 | mobile \n",
      "Processing Record 151 of Set 16 | abu samrah \n",
      "Processing Record 152 of Set 16 | kruisfontein \n",
      "Processing Record 153 of Set 16 | oksfjord \n",
      "Processing Record 154 of Set 16 | castro \n",
      "Processing Record 155 of Set 16 | coronon \n",
      "Processing Record 156 of Set 16 | solnechnyy \n",
      "Processing Record 157 of Set 16 | juneau \n",
      "Processing Record 158 of Set 16 | anadyr \n",
      "Processing Record 159 of Set 16 | fortuna \n",
      "Processing Record 160 of Set 16 | maracacume \n",
      "Processing Record 161 of Set 16 | victoria \n",
      "Processing Record 162 of Set 16 | albion \n",
      "Processing Record 163 of Set 16 | iqaluit \n",
      "Processing Record 164 of Set 16 | nixa \n",
      "Processing Record 165 of Set 16 | bengkulu \n",
      "Processing Record 166 of Set 16 | luderitz \n",
      "Processing Record 167 of Set 16 | sehithwa \n",
      "bolungarvik not found. Skipping...\n",
      "Processing Record 168 of Set 17 | meulaboh \n",
      "Processing Record 169 of Set 17 | portland \n",
      "Processing Record 170 of Set 17 | vostok \n",
      "Processing Record 171 of Set 17 | hamilton \n",
      "Processing Record 172 of Set 17 | natagaima \n",
      "Processing Record 173 of Set 17 | sao jose da coroa grande \n",
      "Processing Record 174 of Set 17 | lewiston \n",
      "Processing Record 175 of Set 17 | bagdarin \n"
     ]
    },
    {
     "name": "stdout",
     "output_type": "stream",
     "text": [
      "Processing Record 176 of Set 17 | chupa \n",
      "Processing Record 177 of Set 17 | shimoda \n",
      "Processing Record 178 of Set 17 | busselton \n",
      "Processing Record 179 of Set 17 | norman wells \n",
      "Processing Record 180 of Set 17 | kodiak \n",
      "Processing Record 181 of Set 17 | rantauprapat \n",
      "Processing Record 182 of Set 17 | caninde \n",
      "Processing Record 183 of Set 17 | avarua \n",
      "momcilgrad not found. Skipping...\n",
      "Processing Record 184 of Set 18 | vredendal \n",
      "Processing Record 185 of Set 18 | kirakira \n",
      "almenevo not found. Skipping...\n",
      "Processing Record 186 of Set 19 | yagodnoye \n",
      "Processing Record 187 of Set 19 | kaitangata \n",
      "guajara-mirim not found. Skipping...\n",
      "Processing Record 188 of Set 20 | mapiripan \n",
      "Processing Record 189 of Set 20 | kemijarvi \n",
      "Processing Record 190 of Set 20 | port augusta \n",
      "Processing Record 191 of Set 20 | bitung \n",
      "Processing Record 192 of Set 20 | lamar \n",
      "Processing Record 193 of Set 20 | alamosa \n",
      "Processing Record 194 of Set 20 | leh \n",
      "Processing Record 195 of Set 20 | cabo san lucas \n",
      "Processing Record 196 of Set 20 | zlobin \n",
      "Processing Record 197 of Set 20 | bathsheba \n",
      "Processing Record 198 of Set 20 | port lincoln \n",
      "Processing Record 199 of Set 20 | san quintin \n",
      "Processing Record 200 of Set 20 | abnub \n",
      "Processing Record 201 of Set 20 | arman \n",
      "Processing Record 202 of Set 20 | novoanninskiy \n",
      "Processing Record 203 of Set 20 | baykit \n",
      "karaul not found. Skipping...\n",
      "Processing Record 204 of Set 21 | auki \n",
      "Processing Record 205 of Set 21 | kiunga \n",
      "Processing Record 206 of Set 21 | camana \n",
      "Processing Record 207 of Set 21 | gigmoto \n",
      "Processing Record 208 of Set 21 | torbay \n",
      "Processing Record 209 of Set 21 | wilmington \n",
      "Processing Record 210 of Set 21 | raudeberg \n",
      "Processing Record 211 of Set 21 | aklavik \n",
      "Processing Record 212 of Set 21 | tuatapere \n",
      "Processing Record 213 of Set 21 | moose factory \n",
      "Processing Record 214 of Set 21 | gisborne \n",
      "Processing Record 215 of Set 21 | peterhead \n",
      "Processing Record 216 of Set 21 | sur \n",
      "Processing Record 217 of Set 21 | mitu \n",
      "Processing Record 218 of Set 21 | ozernovskiy \n",
      "Processing Record 219 of Set 21 | hami \n",
      "Processing Record 220 of Set 21 | gamba \n",
      "Processing Record 221 of Set 21 | vardo \n",
      "Processing Record 222 of Set 21 | klaksvik \n",
      "Processing Record 223 of Set 21 | tasiilaq \n",
      "tumannyy not found. Skipping...\n",
      "Processing Record 224 of Set 22 | berlevag \n",
      "Processing Record 225 of Set 22 | skjervoy \n",
      "Processing Record 226 of Set 22 | mount isa \n",
      "Processing Record 227 of Set 22 | alice springs \n",
      "Processing Record 228 of Set 22 | comodoro rivadavia \n",
      "Processing Record 229 of Set 22 | new norfolk \n",
      "Processing Record 230 of Set 22 | avera \n",
      "Processing Record 231 of Set 22 | puerto carreno \n",
      "Processing Record 232 of Set 22 | longyearbyen \n",
      "Processing Record 233 of Set 22 | jaguaruna \n",
      "Processing Record 234 of Set 22 | whyalla \n",
      "Processing Record 235 of Set 22 | saint-augustin \n",
      "Processing Record 236 of Set 22 | riyadh \n",
      "Processing Record 237 of Set 22 | wanning \n",
      "Processing Record 238 of Set 22 | yulara \n",
      "Processing Record 239 of Set 22 | nizwa \n",
      "Processing Record 240 of Set 22 | saint-francois \n",
      "karauzyak not found. Skipping...\n",
      "Processing Record 241 of Set 23 | leningradskiy \n",
      "Processing Record 242 of Set 23 | weyburn \n",
      "Processing Record 243 of Set 23 | cockburn town \n",
      "Processing Record 244 of Set 23 | kapoeta \n",
      "Processing Record 245 of Set 23 | yar-sale \n",
      "Processing Record 246 of Set 23 | tessalit \n",
      "Processing Record 247 of Set 23 | ostrovnoy \n",
      "Processing Record 248 of Set 23 | hay river \n",
      "Processing Record 249 of Set 23 | uyuni \n",
      "Processing Record 250 of Set 23 | nerchinsk \n",
      "Processing Record 251 of Set 23 | slavyanka \n",
      "Processing Record 252 of Set 23 | scalea \n",
      "Processing Record 253 of Set 23 | kodinar \n",
      "Processing Record 254 of Set 23 | fort nelson \n",
      "labutta not found. Skipping...\n",
      "Processing Record 255 of Set 24 | esperance \n",
      "Processing Record 256 of Set 24 | chokurdakh \n",
      "Processing Record 257 of Set 24 | lakselv \n",
      "Processing Record 258 of Set 24 | okha \n",
      "tsihombe not found. Skipping...\n",
      "Processing Record 259 of Set 25 | vila velha \n",
      "Processing Record 260 of Set 25 | saint-joseph \n",
      "Processing Record 261 of Set 25 | muli \n",
      "Processing Record 262 of Set 25 | geraldton \n",
      "Processing Record 263 of Set 25 | port moresby \n",
      "Processing Record 264 of Set 25 | kalmunai \n",
      "Processing Record 265 of Set 25 | kultayevo \n",
      "Processing Record 266 of Set 25 | asau \n",
      "Processing Record 267 of Set 25 | waddan \n",
      "Processing Record 268 of Set 25 | mattawa \n",
      "amderma not found. Skipping...\n",
      "Processing Record 269 of Set 26 | xuanhua \n",
      "Processing Record 270 of Set 26 | porbandar \n",
      "Processing Record 271 of Set 26 | araouane \n",
      "Processing Record 272 of Set 26 | arlit \n",
      "Processing Record 273 of Set 26 | jeremie \n",
      "Processing Record 274 of Set 26 | tual \n",
      "Processing Record 275 of Set 26 | christchurch \n",
      "Processing Record 276 of Set 26 | san isidro \n",
      "Processing Record 277 of Set 26 | pineville \n",
      "Processing Record 278 of Set 26 | lompoc \n",
      "we not found. Skipping...\n",
      "Processing Record 279 of Set 27 | kavieng \n",
      "Processing Record 280 of Set 27 | xining \n",
      "Processing Record 281 of Set 27 | labuhan \n",
      "Processing Record 282 of Set 27 | birin \n",
      "Processing Record 283 of Set 27 | namibe \n",
      "Processing Record 284 of Set 27 | taguatinga \n",
      "Processing Record 285 of Set 27 | westport \n",
      "Processing Record 286 of Set 27 | butaritari \n",
      "Processing Record 287 of Set 27 | tabou \n",
      "Processing Record 288 of Set 27 | yaan \n",
      "Processing Record 289 of Set 27 | hovd \n",
      "Processing Record 290 of Set 27 | yumen \n",
      "Processing Record 291 of Set 27 | san carlos de bariloche \n",
      "Processing Record 292 of Set 27 | ahipara \n",
      "Processing Record 293 of Set 27 | dubbo \n",
      "Processing Record 294 of Set 27 | turukhansk \n",
      "Processing Record 295 of Set 27 | igarka \n",
      "Processing Record 296 of Set 27 | katherine \n",
      "Processing Record 297 of Set 27 | catalina \n",
      "Processing Record 298 of Set 27 | yuksekova \n",
      "Processing Record 299 of Set 27 | mahebourg \n",
      "Processing Record 300 of Set 27 | qeshm \n",
      "Processing Record 301 of Set 27 | bjornevatn \n",
      "Processing Record 302 of Set 27 | chuy \n",
      "Processing Record 303 of Set 27 | kahului \n",
      "Processing Record 304 of Set 27 | grand bend \n",
      "Processing Record 305 of Set 27 | santa rosa \n",
      "Processing Record 306 of Set 27 | chongwe \n",
      "Processing Record 307 of Set 27 | samarai \n",
      "Processing Record 308 of Set 27 | mount gambier \n",
      "Processing Record 309 of Set 27 | brownsville \n",
      "Processing Record 310 of Set 27 | dingle \n",
      "Processing Record 311 of Set 27 | kuito \n",
      "Processing Record 312 of Set 27 | noumea \n",
      "Processing Record 313 of Set 27 | xichang \n",
      "Processing Record 314 of Set 27 | palana \n",
      "Processing Record 315 of Set 27 | ramshir \n",
      "Processing Record 316 of Set 27 | madaoua \n",
      "Processing Record 317 of Set 27 | tommot \n",
      "Processing Record 318 of Set 27 | tapes \n",
      "Processing Record 319 of Set 27 | walvis bay \n",
      "Processing Record 320 of Set 27 | melilla \n",
      "Processing Record 321 of Set 27 | at-bashi \n",
      "Processing Record 322 of Set 27 | belaya gora \n",
      "Processing Record 323 of Set 27 | sao filipe \n",
      "Processing Record 324 of Set 27 | hailar \n",
      "Processing Record 325 of Set 27 | pavilosta \n",
      "Processing Record 326 of Set 27 | marzuq \n",
      "Processing Record 327 of Set 27 | zhigansk \n",
      "Processing Record 328 of Set 27 | shitanjing \n",
      "Processing Record 329 of Set 27 | ontario \n",
      "Processing Record 330 of Set 27 | angoche \n",
      "Processing Record 331 of Set 27 | huilong \n",
      "Processing Record 332 of Set 27 | murgab \n",
      "Processing Record 333 of Set 27 | harper \n",
      "Processing Record 334 of Set 27 | launceston \n",
      "Processing Record 335 of Set 27 | boden \n",
      "Processing Record 336 of Set 27 | lagoa \n",
      "Processing Record 337 of Set 27 | barranca \n",
      "Processing Record 338 of Set 27 | road town \n",
      "Processing Record 339 of Set 27 | vondrozo \n",
      "Processing Record 340 of Set 27 | fleetwood \n",
      "Processing Record 341 of Set 27 | manzhouli \n",
      "Processing Record 342 of Set 27 | mont-dore \n",
      "Processing Record 343 of Set 27 | ilulissat \n",
      "Processing Record 344 of Set 27 | bintulu \n",
      "Processing Record 345 of Set 27 | coquimbo \n",
      "Processing Record 346 of Set 27 | srednekolymsk \n",
      "Processing Record 347 of Set 27 | nuristan \n",
      "Processing Record 348 of Set 27 | akyab \n",
      "Processing Record 349 of Set 27 | la ronge \n",
      "Processing Record 350 of Set 27 | novoagansk \n",
      "Processing Record 351 of Set 27 | douentza \n",
      "Processing Record 352 of Set 27 | rosetta \n",
      "Processing Record 353 of Set 27 | haines junction \n",
      "Processing Record 354 of Set 27 | mamit \n"
     ]
    },
    {
     "name": "stdout",
     "output_type": "stream",
     "text": [
      "Processing Record 355 of Set 27 | touros \n",
      "Processing Record 356 of Set 27 | sukhumi \n",
      "Processing Record 357 of Set 27 | axim \n",
      "Processing Record 358 of Set 27 | poronaysk \n",
      "Processing Record 359 of Set 27 | tilichiki \n",
      "Processing Record 360 of Set 27 | biograd na moru \n",
      "Processing Record 361 of Set 27 | opuwo \n",
      "Processing Record 362 of Set 27 | hanmer springs \n",
      "Processing Record 363 of Set 27 | dharchula \n",
      "Processing Record 364 of Set 27 | sorland \n",
      "Processing Record 365 of Set 27 | arraial do cabo \n",
      "Processing Record 366 of Set 27 | mareeba \n",
      "Processing Record 367 of Set 27 | nouadhibou \n",
      "Processing Record 368 of Set 27 | itaueira \n",
      "Processing Record 369 of Set 27 | kamenka \n",
      "Processing Record 370 of Set 27 | aykhal \n",
      "Processing Record 371 of Set 27 | coihaique \n",
      "Processing Record 372 of Set 27 | veraval \n",
      "Processing Record 373 of Set 27 | tala \n",
      "Processing Record 374 of Set 27 | altenholz \n",
      "Processing Record 375 of Set 27 | maputo \n",
      "talawdi not found. Skipping...\n",
      "Processing Record 376 of Set 28 | birjand \n",
      "Processing Record 377 of Set 28 | washington \n",
      "Processing Record 378 of Set 28 | sungaipenuh \n",
      "Processing Record 379 of Set 28 | qazax \n",
      "Processing Record 380 of Set 28 | gibsons \n",
      "Processing Record 381 of Set 28 | tiksi \n",
      "Processing Record 382 of Set 28 | rocha \n",
      "Processing Record 383 of Set 28 | laramie \n",
      "Processing Record 384 of Set 28 | santiago del estero \n",
      "Processing Record 385 of Set 28 | gushikawa \n",
      "blonduos not found. Skipping...\n",
      "Processing Record 386 of Set 29 | payo \n",
      "Processing Record 387 of Set 29 | dunmore town \n",
      "ngukurr not found. Skipping...\n",
      "Processing Record 388 of Set 30 | dibulla \n",
      "Processing Record 389 of Set 30 | isangel \n",
      "Processing Record 390 of Set 30 | kaukauna \n",
      "Processing Record 391 of Set 30 | agboville \n",
      "Processing Record 392 of Set 30 | tevaitoa \n",
      "Processing Record 393 of Set 30 | kieta \n",
      "Processing Record 394 of Set 30 | dali \n",
      "Processing Record 395 of Set 30 | alta floresta \n",
      "Processing Record 396 of Set 30 | redmond \n",
      "Processing Record 397 of Set 30 | hargeysa \n",
      "vastervik not found. Skipping...\n",
      "Processing Record 398 of Set 31 | manggar \n",
      "Processing Record 399 of Set 31 | khipro \n",
      "Processing Record 400 of Set 31 | hualmay \n",
      "Processing Record 401 of Set 31 | inhambane \n",
      "Processing Record 402 of Set 31 | vikarabad \n",
      "Processing Record 403 of Set 31 | sandwick \n",
      "Processing Record 404 of Set 31 | manta \n",
      "Processing Record 405 of Set 31 | olavarria \n",
      "Processing Record 406 of Set 31 | swan river \n",
      "Processing Record 407 of Set 31 | karpogory \n",
      "Processing Record 408 of Set 31 | nanortalik \n",
      "Processing Record 409 of Set 31 | faya \n",
      "Processing Record 410 of Set 31 | richards bay \n",
      "Processing Record 411 of Set 31 | dalvik \n",
      "Processing Record 412 of Set 31 | nyrob \n",
      "samusu not found. Skipping...\n",
      "Processing Record 413 of Set 32 | buala \n",
      "Processing Record 414 of Set 32 | grindavik \n",
      "Processing Record 415 of Set 32 | chapais \n",
      "Processing Record 416 of Set 32 | poya \n",
      "Processing Record 417 of Set 32 | mwingi \n",
      "Processing Record 418 of Set 32 | virginia beach \n",
      "Processing Record 419 of Set 32 | khasan \n",
      "Processing Record 420 of Set 32 | bubaque \n",
      "Processing Record 421 of Set 32 | bella vista \n",
      "Processing Record 422 of Set 32 | nishihara \n",
      "mutsamudu not found. Skipping...\n",
      "Processing Record 423 of Set 33 | verkhnyaya inta \n",
      "Processing Record 424 of Set 33 | talnakh \n",
      "Processing Record 425 of Set 33 | sao gabriel da cachoeira \n",
      "Processing Record 426 of Set 33 | praya \n",
      "Processing Record 427 of Set 33 | hofgeismar \n",
      "Processing Record 428 of Set 33 | adre \n",
      "Processing Record 429 of Set 33 | kroya \n",
      "Processing Record 430 of Set 33 | durban \n",
      "Processing Record 431 of Set 33 | pachmarhi \n",
      "Processing Record 432 of Set 33 | smithers \n",
      "Processing Record 433 of Set 33 | svobodnyy \n",
      "Processing Record 434 of Set 33 | lajas \n",
      "Processing Record 435 of Set 33 | korla \n",
      "lolua not found. Skipping...\n",
      "marcona not found. Skipping...\n",
      "Processing Record 436 of Set 35 | pokhara \n",
      "Processing Record 437 of Set 35 | sobolevo \n",
      "Processing Record 438 of Set 35 | samut prakan \n",
      "Processing Record 439 of Set 35 | te anau \n",
      "Processing Record 440 of Set 35 | talcahuano \n",
      "Processing Record 441 of Set 35 | alyangula \n",
      "Processing Record 442 of Set 35 | santa helena \n",
      "Processing Record 443 of Set 35 | ko samui \n",
      "Processing Record 444 of Set 35 | ancud \n",
      "Processing Record 445 of Set 35 | bassar \n",
      "Processing Record 446 of Set 35 | narsaq \n",
      "Processing Record 447 of Set 35 | boende \n",
      "Processing Record 448 of Set 35 | qingquan \n",
      "Processing Record 449 of Set 35 | znamenskoye \n",
      "Processing Record 450 of Set 35 | darnah \n",
      "Processing Record 451 of Set 35 | rovaniemi \n",
      "Processing Record 452 of Set 35 | dakar \n",
      "kytlym not found. Skipping...\n",
      "Processing Record 453 of Set 36 | gimli \n",
      "Processing Record 454 of Set 36 | ucluelet \n",
      "Processing Record 455 of Set 36 | shanting \n",
      "Processing Record 456 of Set 36 | svetlogorsk \n",
      "Processing Record 457 of Set 36 | san borja \n",
      "Processing Record 458 of Set 36 | lavrentiya \n",
      "Processing Record 459 of Set 36 | grafton \n",
      "Processing Record 460 of Set 36 | saint michael \n",
      "Processing Record 461 of Set 36 | matagami \n",
      "asayita not found. Skipping...\n",
      "Processing Record 462 of Set 37 | trinidad \n",
      "Processing Record 463 of Set 37 | taoudenni \n",
      "Processing Record 464 of Set 37 | brenham \n",
      "Processing Record 465 of Set 37 | tomatlan \n",
      "Processing Record 466 of Set 37 | misratah \n",
      "Processing Record 467 of Set 37 | karratha \n",
      "Processing Record 468 of Set 37 | grenfell \n",
      "Processing Record 469 of Set 37 | lazurne \n",
      "Processing Record 470 of Set 37 | nemuro \n",
      "barbar not found. Skipping...\n",
      "Processing Record 471 of Set 38 | morant bay \n",
      "Processing Record 472 of Set 38 | west warwick \n",
      "Processing Record 473 of Set 38 | shingu \n",
      "Processing Record 474 of Set 38 | saurimo \n",
      "Processing Record 475 of Set 38 | hvolsvollur \n",
      "Processing Record 476 of Set 38 | flinders \n",
      "Processing Record 477 of Set 38 | ventersburg \n",
      "Processing Record 478 of Set 38 | komsomolskiy \n",
      "Processing Record 479 of Set 38 | bethel \n",
      "Processing Record 480 of Set 38 | gallup \n",
      "Processing Record 481 of Set 38 | bealanana \n",
      "Processing Record 482 of Set 38 | frontera \n",
      "Processing Record 483 of Set 38 | vao \n",
      "Processing Record 484 of Set 38 | gardendale \n",
      "Processing Record 485 of Set 38 | nantucket \n",
      "Processing Record 486 of Set 38 | washougal \n",
      "Processing Record 487 of Set 38 | pangkalanbuun \n",
      "Processing Record 488 of Set 38 | arawa \n",
      "Processing Record 489 of Set 38 | lieksa \n",
      "Processing Record 490 of Set 38 | mwense \n",
      "umzimvubu not found. Skipping...\n",
      "Processing Record 491 of Set 39 | hearst \n",
      "Processing Record 492 of Set 39 | porto novo \n",
      "Processing Record 493 of Set 39 | minudasht \n",
      "chagda not found. Skipping...\n",
      "Processing Record 494 of Set 40 | babra \n",
      "Processing Record 495 of Set 40 | teya \n",
      "Processing Record 496 of Set 40 | sacramento \n",
      "Processing Record 497 of Set 40 | tura \n",
      "Processing Record 498 of Set 40 | amberley \n",
      "burica not found. Skipping...\n",
      "Processing Record 499 of Set 41 | deputatskiy \n",
      "Processing Record 500 of Set 41 | carmen \n",
      "bolshaya irba not found. Skipping...\n",
      "Processing Record 501 of Set 42 | kambove \n",
      "Processing Record 502 of Set 42 | luancheng \n",
      "Processing Record 503 of Set 42 | lodwar \n",
      "Processing Record 504 of Set 42 | beboto \n",
      "Processing Record 505 of Set 42 | acari \n",
      "Processing Record 506 of Set 42 | saint-pierre \n",
      "Processing Record 507 of Set 42 | ararangua \n",
      "Processing Record 508 of Set 42 | cherlak \n",
      "Processing Record 509 of Set 42 | shahabad \n",
      "Processing Record 510 of Set 42 | bowen \n",
      "Processing Record 511 of Set 42 | barranco \n",
      "Processing Record 512 of Set 42 | baghdad \n",
      "Processing Record 513 of Set 42 | mnogovershinnyy \n",
      "Processing Record 514 of Set 42 | abonnema \n",
      "Processing Record 515 of Set 42 | gadsden \n",
      "Processing Record 516 of Set 42 | okhotsk \n",
      "Processing Record 517 of Set 42 | toamasina \n",
      "Processing Record 518 of Set 42 | saint-georges \n",
      "Processing Record 519 of Set 42 | almansa \n",
      "Processing Record 520 of Set 42 | xiuyan \n",
      "Processing Record 521 of Set 42 | toppenish \n",
      "Processing Record 522 of Set 42 | mangrul pir \n",
      "Processing Record 523 of Set 42 | saint-paul \n",
      "kamenskoye not found. Skipping...\n",
      "Processing Record 524 of Set 43 | emmaus \n",
      "Processing Record 525 of Set 43 | uirauna \n",
      "Processing Record 526 of Set 43 | zhezkazgan \n",
      "Processing Record 527 of Set 43 | calvinia \n",
      "Processing Record 528 of Set 43 | boguchany \n",
      "Processing Record 529 of Set 43 | kisangani \n"
     ]
    },
    {
     "name": "stdout",
     "output_type": "stream",
     "text": [
      "Processing Record 530 of Set 43 | dzhebariki-khaya \n",
      "Processing Record 531 of Set 43 | gerash \n",
      "Processing Record 532 of Set 43 | husavik \n",
      "Processing Record 533 of Set 43 | yerbogachen \n",
      "Processing Record 534 of Set 43 | dawei \n",
      "Processing Record 535 of Set 43 | moncao \n",
      "Processing Record 536 of Set 43 | namikupa \n",
      "Processing Record 537 of Set 43 | zonguldak \n",
      "Processing Record 538 of Set 43 | tiznit \n",
      "Processing Record 539 of Set 43 | muros \n",
      "tabiauea not found. Skipping...\n",
      "Processing Record 540 of Set 44 | szentes \n",
      "nguiu not found. Skipping...\n",
      "Processing Record 541 of Set 45 | mtwara \n",
      "Processing Record 542 of Set 45 | aswan \n",
      "Processing Record 543 of Set 45 | lumphat \n",
      "Processing Record 544 of Set 45 | zharkent \n",
      "Processing Record 545 of Set 45 | san cristobal \n",
      "Processing Record 546 of Set 45 | saint anthony \n",
      "Processing Record 547 of Set 45 | maku \n",
      "Processing Record 548 of Set 45 | masalli \n",
      "Processing Record 549 of Set 45 | huangpu \n",
      "Processing Record 550 of Set 45 | sabang \n",
      "Processing Record 551 of Set 45 | balkhash \n",
      "Processing Record 552 of Set 45 | orodara \n",
      "Processing Record 553 of Set 45 | diamantino \n",
      "Processing Record 554 of Set 45 | farah \n",
      "Processing Record 555 of Set 45 | merrill \n",
      "Processing Record 556 of Set 45 | dongsheng \n",
      "Processing Record 557 of Set 45 | yuli \n",
      "Processing Record 558 of Set 45 | taga \n",
      "Processing Record 559 of Set 45 | los llanos de aridane \n",
      "Processing Record 560 of Set 45 | bunda \n",
      "Processing Record 561 of Set 45 | mabaruma \n",
      "Processing Record 562 of Set 45 | roald \n",
      "galiwinku not found. Skipping...\n",
      "ambodifototra not found. Skipping...\n",
      "Processing Record 563 of Set 47 | mancio lima \n",
      "Processing Record 564 of Set 47 | sorong \n",
      "Processing Record 565 of Set 47 | ban nahin \n"
     ]
    }
   ],
   "source": [
    "city_found_counter = 0 \n",
    "set_counter = 1 \n",
    "for city in cities:\n",
    "    query_url = url + \"appid=\" + weather_api_key + \"&q=\" + city\n",
    "    response = requests.get(query_url).json()\n",
    "    try:\n",
    "        lat.append(response['coord']['lat'])\n",
    "        lon.append(response['coord']['lon'])\n",
    "        temp_max.append(response['main']['temp_max'])\n",
    "        temp.append(response['main']['temp'])\n",
    "        humidity.append(response['main']['humidity'])\n",
    "        cloudiness.append(response['clouds']['all'])\n",
    "        wind_speed.append(response['wind']['speed'])\n",
    "        country.append(response['sys']['country'])\n",
    "        date.append(response['dt'])\n",
    "        print(f'Processing Record {city_found_counter} of Set {set_counter} | {city} ')\n",
    "        city_found_counter = city_found_counter + 1\n",
    "        cities_append.append(city)\n",
    "    except:\n",
    "        print(f'{city} not found. Skipping...')\n",
    "        set_counter = set_counter + 1 \n",
    "        pass\n"
   ]
  },
  {
   "cell_type": "code",
   "execution_count": 6,
   "metadata": {},
   "outputs": [
    {
     "data": {
      "text/plain": [
       "566"
      ]
     },
     "execution_count": 6,
     "metadata": {},
     "output_type": "execute_result"
    }
   ],
   "source": [
    "len(cities_append)\n",
    "#len(lat)"
   ]
  },
  {
   "cell_type": "code",
   "execution_count": 7,
   "metadata": {},
   "outputs": [
    {
     "data": {
      "text/html": [
       "<div>\n",
       "<style scoped>\n",
       "    .dataframe tbody tr th:only-of-type {\n",
       "        vertical-align: middle;\n",
       "    }\n",
       "\n",
       "    .dataframe tbody tr th {\n",
       "        vertical-align: top;\n",
       "    }\n",
       "\n",
       "    .dataframe thead th {\n",
       "        text-align: right;\n",
       "    }\n",
       "</style>\n",
       "<table border=\"1\" class=\"dataframe\">\n",
       "  <thead>\n",
       "    <tr style=\"text-align: right;\">\n",
       "      <th></th>\n",
       "      <th>city</th>\n",
       "      <th>lat</th>\n",
       "      <th>lon</th>\n",
       "      <th>temp_max</th>\n",
       "      <th>temp</th>\n",
       "      <th>humidity</th>\n",
       "      <th>cloudiness</th>\n",
       "      <th>wind_speed</th>\n",
       "      <th>country</th>\n",
       "      <th>date</th>\n",
       "    </tr>\n",
       "  </thead>\n",
       "  <tbody>\n",
       "    <tr>\n",
       "      <th>0</th>\n",
       "      <td>georgetown</td>\n",
       "      <td>5.4112</td>\n",
       "      <td>100.3354</td>\n",
       "      <td>299.79</td>\n",
       "      <td>298.79</td>\n",
       "      <td>92</td>\n",
       "      <td>40</td>\n",
       "      <td>1.34</td>\n",
       "      <td>MY</td>\n",
       "      <td>1635205751</td>\n",
       "    </tr>\n",
       "    <tr>\n",
       "      <th>1</th>\n",
       "      <td>vrede</td>\n",
       "      <td>-27.4257</td>\n",
       "      <td>29.1659</td>\n",
       "      <td>283.68</td>\n",
       "      <td>283.68</td>\n",
       "      <td>94</td>\n",
       "      <td>99</td>\n",
       "      <td>1.96</td>\n",
       "      <td>ZA</td>\n",
       "      <td>1635205902</td>\n",
       "    </tr>\n",
       "    <tr>\n",
       "      <th>2</th>\n",
       "      <td>khatanga</td>\n",
       "      <td>71.9667</td>\n",
       "      <td>102.5000</td>\n",
       "      <td>257.97</td>\n",
       "      <td>257.97</td>\n",
       "      <td>96</td>\n",
       "      <td>100</td>\n",
       "      <td>2.96</td>\n",
       "      <td>RU</td>\n",
       "      <td>1635205902</td>\n",
       "    </tr>\n",
       "    <tr>\n",
       "      <th>3</th>\n",
       "      <td>methoni</td>\n",
       "      <td>36.8197</td>\n",
       "      <td>21.7049</td>\n",
       "      <td>288.83</td>\n",
       "      <td>287.07</td>\n",
       "      <td>67</td>\n",
       "      <td>80</td>\n",
       "      <td>4.44</td>\n",
       "      <td>GR</td>\n",
       "      <td>1635205902</td>\n",
       "    </tr>\n",
       "    <tr>\n",
       "      <th>4</th>\n",
       "      <td>sakakah</td>\n",
       "      <td>29.9697</td>\n",
       "      <td>40.2064</td>\n",
       "      <td>292.91</td>\n",
       "      <td>292.91</td>\n",
       "      <td>29</td>\n",
       "      <td>0</td>\n",
       "      <td>2.71</td>\n",
       "      <td>SA</td>\n",
       "      <td>1635205903</td>\n",
       "    </tr>\n",
       "  </tbody>\n",
       "</table>\n",
       "</div>"
      ],
      "text/plain": [
       "         city      lat       lon  temp_max    temp  humidity  cloudiness  \\\n",
       "0  georgetown   5.4112  100.3354    299.79  298.79        92          40   \n",
       "1       vrede -27.4257   29.1659    283.68  283.68        94          99   \n",
       "2    khatanga  71.9667  102.5000    257.97  257.97        96         100   \n",
       "3     methoni  36.8197   21.7049    288.83  287.07        67          80   \n",
       "4     sakakah  29.9697   40.2064    292.91  292.91        29           0   \n",
       "\n",
       "   wind_speed country        date  \n",
       "0        1.34      MY  1635205751  \n",
       "1        1.96      ZA  1635205902  \n",
       "2        2.96      RU  1635205902  \n",
       "3        4.44      GR  1635205902  \n",
       "4        2.71      SA  1635205903  "
      ]
     },
     "execution_count": 7,
     "metadata": {},
     "output_type": "execute_result"
    }
   ],
   "source": [
    "weather_dict = {\n",
    "    'city':cities_append,\n",
    "    'lat':lat,\n",
    "    'lon':lon,\n",
    "    'temp_max':temp_max,\n",
    "    'temp':temp,\n",
    "    'humidity':humidity,\n",
    "    'cloudiness':cloudiness,\n",
    "    'wind_speed':wind_speed,\n",
    "    'country':country,\n",
    "    'date':date\n",
    "}\n",
    "weather_data = pd.DataFrame(weather_dict)\n",
    "weather_data.to_csv('weather_data.csv',index=False,header=True)\n",
    "weather_data.head()"
   ]
  },
  {
   "cell_type": "markdown",
   "metadata": {},
   "source": [
    "### Perform API Calls\n",
    "* Perform a weather check on each city using a series of successive API calls.\n",
    "* Include a print log of each city as it'sbeing processed (with the city number and city name).\n"
   ]
  },
  {
   "cell_type": "code",
   "execution_count": null,
   "metadata": {},
   "outputs": [],
   "source": []
  },
  {
   "cell_type": "code",
   "execution_count": null,
   "metadata": {
    "scrolled": true
   },
   "outputs": [],
   "source": []
  },
  {
   "cell_type": "markdown",
   "metadata": {},
   "source": [
    "### Convert Raw Data to DataFrame\n",
    "* Export the city data into a .csv.\n",
    "* Display the DataFrame"
   ]
  },
  {
   "cell_type": "code",
   "execution_count": null,
   "metadata": {},
   "outputs": [],
   "source": []
  },
  {
   "cell_type": "code",
   "execution_count": null,
   "metadata": {},
   "outputs": [],
   "source": []
  },
  {
   "cell_type": "markdown",
   "metadata": {},
   "source": [
    "## Inspect the data and remove the cities where the humidity > 100%.\n",
    "----\n",
    "Skip this step if there are no cities that have humidity > 100%. "
   ]
  },
  {
   "cell_type": "code",
   "execution_count": null,
   "metadata": {},
   "outputs": [],
   "source": []
  },
  {
   "cell_type": "code",
   "execution_count": 8,
   "metadata": {},
   "outputs": [
    {
     "data": {
      "text/html": [
       "<div>\n",
       "<style scoped>\n",
       "    .dataframe tbody tr th:only-of-type {\n",
       "        vertical-align: middle;\n",
       "    }\n",
       "\n",
       "    .dataframe tbody tr th {\n",
       "        vertical-align: top;\n",
       "    }\n",
       "\n",
       "    .dataframe thead th {\n",
       "        text-align: right;\n",
       "    }\n",
       "</style>\n",
       "<table border=\"1\" class=\"dataframe\">\n",
       "  <thead>\n",
       "    <tr style=\"text-align: right;\">\n",
       "      <th></th>\n",
       "      <th>lat</th>\n",
       "      <th>lon</th>\n",
       "      <th>temp_max</th>\n",
       "      <th>temp</th>\n",
       "      <th>humidity</th>\n",
       "      <th>cloudiness</th>\n",
       "      <th>wind_speed</th>\n",
       "      <th>date</th>\n",
       "    </tr>\n",
       "  </thead>\n",
       "  <tbody>\n",
       "    <tr>\n",
       "      <th>count</th>\n",
       "      <td>560.000000</td>\n",
       "      <td>560.000000</td>\n",
       "      <td>560.000000</td>\n",
       "      <td>560.000000</td>\n",
       "      <td>560.000000</td>\n",
       "      <td>560.000000</td>\n",
       "      <td>560.000000</td>\n",
       "      <td>5.600000e+02</td>\n",
       "    </tr>\n",
       "    <tr>\n",
       "      <th>mean</th>\n",
       "      <td>19.767088</td>\n",
       "      <td>21.346113</td>\n",
       "      <td>288.179036</td>\n",
       "      <td>287.836214</td>\n",
       "      <td>73.548214</td>\n",
       "      <td>56.228571</td>\n",
       "      <td>3.232304</td>\n",
       "      <td>1.635206e+09</td>\n",
       "    </tr>\n",
       "    <tr>\n",
       "      <th>std</th>\n",
       "      <td>33.218579</td>\n",
       "      <td>89.589867</td>\n",
       "      <td>11.468770</td>\n",
       "      <td>11.417762</td>\n",
       "      <td>19.379124</td>\n",
       "      <td>38.201348</td>\n",
       "      <td>2.438376</td>\n",
       "      <td>1.967600e+02</td>\n",
       "    </tr>\n",
       "    <tr>\n",
       "      <th>min</th>\n",
       "      <td>-54.800000</td>\n",
       "      <td>-175.200000</td>\n",
       "      <td>249.700000</td>\n",
       "      <td>249.700000</td>\n",
       "      <td>13.000000</td>\n",
       "      <td>0.000000</td>\n",
       "      <td>0.000000</td>\n",
       "      <td>1.635205e+09</td>\n",
       "    </tr>\n",
       "    <tr>\n",
       "      <th>25%</th>\n",
       "      <td>-8.800150</td>\n",
       "      <td>-62.250575</td>\n",
       "      <td>280.550000</td>\n",
       "      <td>280.037500</td>\n",
       "      <td>65.000000</td>\n",
       "      <td>20.000000</td>\n",
       "      <td>1.460000</td>\n",
       "      <td>1.635206e+09</td>\n",
       "    </tr>\n",
       "    <tr>\n",
       "      <th>50%</th>\n",
       "      <td>24.390550</td>\n",
       "      <td>25.985050</td>\n",
       "      <td>290.520000</td>\n",
       "      <td>290.215000</td>\n",
       "      <td>78.000000</td>\n",
       "      <td>65.500000</td>\n",
       "      <td>2.620000</td>\n",
       "      <td>1.635206e+09</td>\n",
       "    </tr>\n",
       "    <tr>\n",
       "      <th>75%</th>\n",
       "      <td>46.624950</td>\n",
       "      <td>99.858900</td>\n",
       "      <td>297.225000</td>\n",
       "      <td>297.135000</td>\n",
       "      <td>88.000000</td>\n",
       "      <td>93.000000</td>\n",
       "      <td>4.312500</td>\n",
       "      <td>1.635206e+09</td>\n",
       "    </tr>\n",
       "    <tr>\n",
       "      <th>max</th>\n",
       "      <td>78.218600</td>\n",
       "      <td>178.416700</td>\n",
       "      <td>306.020000</td>\n",
       "      <td>306.020000</td>\n",
       "      <td>99.000000</td>\n",
       "      <td>100.000000</td>\n",
       "      <td>15.640000</td>\n",
       "      <td>1.635206e+09</td>\n",
       "    </tr>\n",
       "  </tbody>\n",
       "</table>\n",
       "</div>"
      ],
      "text/plain": [
       "              lat         lon    temp_max        temp    humidity  cloudiness  \\\n",
       "count  560.000000  560.000000  560.000000  560.000000  560.000000  560.000000   \n",
       "mean    19.767088   21.346113  288.179036  287.836214   73.548214   56.228571   \n",
       "std     33.218579   89.589867   11.468770   11.417762   19.379124   38.201348   \n",
       "min    -54.800000 -175.200000  249.700000  249.700000   13.000000    0.000000   \n",
       "25%     -8.800150  -62.250575  280.550000  280.037500   65.000000   20.000000   \n",
       "50%     24.390550   25.985050  290.520000  290.215000   78.000000   65.500000   \n",
       "75%     46.624950   99.858900  297.225000  297.135000   88.000000   93.000000   \n",
       "max     78.218600  178.416700  306.020000  306.020000   99.000000  100.000000   \n",
       "\n",
       "       wind_speed          date  \n",
       "count  560.000000  5.600000e+02  \n",
       "mean     3.232304  1.635206e+09  \n",
       "std      2.438376  1.967600e+02  \n",
       "min      0.000000  1.635205e+09  \n",
       "25%      1.460000  1.635206e+09  \n",
       "50%      2.620000  1.635206e+09  \n",
       "75%      4.312500  1.635206e+09  \n",
       "max     15.640000  1.635206e+09  "
      ]
     },
     "execution_count": 8,
     "metadata": {},
     "output_type": "execute_result"
    }
   ],
   "source": [
    "#  Get the indices of cities that have humidity over 100%.\n",
    "weather_data = weather_data.loc[weather_data['humidity'] < 100 ]\n",
    "weather_data.describe()"
   ]
  },
  {
   "cell_type": "code",
   "execution_count": 9,
   "metadata": {},
   "outputs": [],
   "source": [
    "# Make a new DataFrame equal to the city data to drop all humidity outliers by index.\n",
    "# Passing \"inplace=False\" will make a copy of the city_data DataFrame, which we call \"clean_city_data\".\n"
   ]
  },
  {
   "cell_type": "code",
   "execution_count": null,
   "metadata": {},
   "outputs": [],
   "source": [
    "\n"
   ]
  },
  {
   "cell_type": "markdown",
   "metadata": {},
   "source": [
    "## Plotting the Data\n",
    "* Use proper labeling of the plots using plot titles (including date of analysis) and axes labels.\n",
    "* Save the plotted figures as .pngs."
   ]
  },
  {
   "cell_type": "markdown",
   "metadata": {},
   "source": [
    "## Latitude vs. Temperature Plot"
   ]
  },
  {
   "cell_type": "code",
   "execution_count": 24,
   "metadata": {
    "scrolled": true
   },
   "outputs": [
    {
     "data": {
      "image/png": "[encoded data removed]",
      "text/plain": [
       "<Figure size 432x288 with 1 Axes>"
      ]
     },
     "metadata": {
      "needs_background": "light"
     },
     "output_type": "display_data"
    }
   ],
   "source": [
    "x_axis = weather_data['lat']\n",
    "data = weather_data['temp']\n",
    "plt.scatter(x_axis, data, marker='.')\n",
    "plt.title('Temperature (F) vs. Latitude')\n",
    "plt.xlabel('Latitude')\n",
    "plt.ylabel('Temperature (F)')\n",
    "plt.savefig('Temperature (F) vs. Latitude.png')"
   ]
  },
  {
   "cell_type": "markdown",
   "metadata": {},
   "source": [
    "## Latitude vs. Humidity Plot"
   ]
  },
  {
   "cell_type": "code",
   "execution_count": 26,
   "metadata": {},
   "outputs": [
    {
     "data": {
      "image/png": "[encoded data removed]",
      "text/plain": [
       "<Figure size 432x288 with 1 Axes>"
      ]
     },
     "metadata": {
      "needs_background": "light"
     },
     "output_type": "display_data"
    }
   ],
   "source": [
    "x_axis = weather_data['lat']\n",
    "data = weather_data['humidity']\n",
    "plt.scatter(x_axis, data, marker='.', facecolors='purple')\n",
    "plt.title('Humidity (%) vs. Latitude')\n",
    "plt.xlabel('Latitude')\n",
    "plt.ylabel('Humidity (%)')\n",
    "plt.savefig('Humidity (%) vs. Latitude.png')"
   ]
  },
  {
   "cell_type": "markdown",
   "metadata": {},
   "source": [
    "## Latitude vs. Cloudiness Plot"
   ]
  },
  {
   "cell_type": "code",
   "execution_count": 27,
   "metadata": {},
   "outputs": [
    {
     "data": {
      "image/png": "[encoded data removed]",
      "text/plain": [
       "<Figure size 432x288 with 1 Axes>"
      ]
     },
     "metadata": {
      "needs_background": "light"
     },
     "output_type": "display_data"
    }
   ],
   "source": [
    "x_axis = weather_data['lat']\n",
    "data = weather_data['cloudiness']\n",
    "plt.scatter(x_axis, data, marker='.', facecolors='orange')\n",
    "plt.title('Cloudiness (%) vs. Latitude')\n",
    "plt.xlabel('Latitude')\n",
    "plt.ylabel('Cloudiness (%)')\n",
    "plt.savefig('Cloudiness (%) vs. Latitude.png')"
   ]
  },
  {
   "cell_type": "markdown",
   "metadata": {},
   "source": [
    "## Latitude vs. Wind Speed Plot"
   ]
  },
  {
   "cell_type": "code",
   "execution_count": 29,
   "metadata": {},
   "outputs": [
    {
     "data": {
      "image/png": "[encoded data removed]",
      "text/plain": [
       "<Figure size 432x288 with 1 Axes>"
      ]
     },
     "metadata": {
      "needs_background": "light"
     },
     "output_type": "display_data"
    }
   ],
   "source": [
    "x_axis = weather_data['lat']\n",
    "data = weather_data['wind_speed']\n",
    "plt.scatter(x_axis, data, marker='.', facecolors='red')\n",
    "plt.title('Wind Speed (mph) vs. Latitude')\n",
    "plt.xlabel('Latitude')\n",
    "plt.ylabel('Wind Speed (mph)')\n",
    "plt.savefig('Wind Speed (mph) vs. Latitude.png')"
   ]
  },
  {
   "cell_type": "markdown",
   "metadata": {},
   "source": [
    "## Linear Regression"
   ]
  },
  {
   "cell_type": "code",
   "execution_count": 14,
   "metadata": {},
   "outputs": [],
   "source": [
    "northern_hemisphere = weather_data.loc[weather_data['lat'] > 0 ]\n",
    "southern_hemisphere = weather_data.loc[weather_data['lat'] < 0 ]"
   ]
  },
  {
   "cell_type": "markdown",
   "metadata": {},
   "source": [
    "####  Northern Hemisphere - Max Temp vs. Latitude Linear Regression"
   ]
  },
  {
   "cell_type": "code",
   "execution_count": 51,
   "metadata": {},
   "outputs": [
    {
     "data": {
      "image/png": "[encoded data removed]",
      "text/plain": [
       "<Figure size 432x288 with 1 Axes>"
      ]
     },
     "metadata": {
      "needs_background": "light"
     },
     "output_type": "display_data"
    }
   ],
   "source": [
    "x_axis = northern_hemisphere['lat']\n",
    "data = northern_hemisphere['temp_max']\n",
    "\n",
    "(slope, intercept, rvalue, pvalue, stderr) = linregress(x_axis, data)\n",
    "regress_values = x_axis * slope + intercept\n",
    "line_eq = \"y = \" + str(round(slope,2)) + \"x + \" + str(round(intercept,2))\n",
    "\n",
    "plt.plot(x_axis,regress_values,\"r-\")\n",
    "plt.annotate(line_eq,(6,250),fontsize=15,color=\"red\")\n",
    "\n",
    "plt.scatter(x_axis, data, marker='.' )\n",
    "plt.title('Northern Hemisphere - Temperature (F) vs. Latitude')\n",
    "plt.xlabel('Latitude')\n",
    "plt.ylabel('Temperature (F)')\n",
    "plt.savefig('Northern Hemisphere - Temperature (F) vs. Latitude.png')"
   ]
  },
  {
   "cell_type": "markdown",
   "metadata": {},
   "source": [
    "####  Southern Hemisphere - Max Temp vs. Latitude Linear Regression"
   ]
  },
  {
   "cell_type": "code",
   "execution_count": 53,
   "metadata": {},
   "outputs": [
    {
     "data": {
      "image/png": "[encoded data removed]",
      "text/plain": [
       "<Figure size 432x288 with 1 Axes>"
      ]
     },
     "metadata": {
      "needs_background": "light"
     },
     "output_type": "display_data"
    }
   ],
   "source": [
    "x_axis = southern_hemisphere['lat']\n",
    "data = southern_hemisphere['temp_max']\n",
    "(slope, intercept, rvalue, pvalue, stderr) = linregress(x_axis, data)\n",
    "regress_values = x_axis * slope + intercept\n",
    "line_eq = \"y = \" + str(round(slope,2)) + \"x + \" + str(round(intercept,2))\n",
    "\n",
    "plt.plot(x_axis,regress_values,\"r-\")\n",
    "plt.annotate(line_eq,(-50,280),fontsize=15,color=\"red\")\n",
    "\n",
    "\n",
    "plt.scatter(x_axis, data, marker='.')\n",
    "plt.title('Southern Hemisphere - Temperature (F) vs. Latitude')\n",
    "plt.xlabel('Latitude')\n",
    "plt.ylabel('Temperature (F)')\n",
    "plt.savefig('Southern Hemisphere - Temperature (F) vs. Latitude.png')"
   ]
  },
  {
   "cell_type": "markdown",
   "metadata": {},
   "source": [
    "####  Northern Hemisphere - Humidity (%) vs. Latitude Linear Regression"
   ]
  },
  {
   "cell_type": "code",
   "execution_count": 64,
   "metadata": {},
   "outputs": [
    {
     "data": {
      "image/png": "[encoded data removed]",
      "text/plain": [
       "<Figure size 432x288 with 1 Axes>"
      ]
     },
     "metadata": {
      "needs_background": "light"
     },
     "output_type": "display_data"
    }
   ],
   "source": [
    "x_axis = northern_hemisphere['lat']\n",
    "data = northern_hemisphere['humidity']\n",
    "\n",
    "(slope, intercept, rvalue, pvalue, stderr) = linregress(x_axis, data)\n",
    "regress_values = x_axis * slope + intercept\n",
    "line_eq = \"y = \" + str(round(slope,2)) + \"x + \" + str(round(intercept,2))\n",
    "\n",
    "plt.plot(x_axis,regress_values,\"r-\")\n",
    "plt.annotate(line_eq,(6,12),fontsize=15,color=\"red\")\n",
    "\n",
    "\n",
    "\n",
    "plt.scatter(x_axis, data, marker='.')\n",
    "plt.title('Northern Hemisphere - Humidity (%) vs. Latitude')\n",
    "plt.xlabel('Latitude')\n",
    "plt.ylabel('Humidity (%)')\n",
    "plt.savefig('Northern Hemisphere - Humidity (%) vs. Latitude.png')"
   ]
  },
  {
   "cell_type": "markdown",
   "metadata": {},
   "source": [
    "####  Southern Hemisphere - Humidity (%) vs. Latitude Linear Regression"
   ]
  },
  {
   "cell_type": "code",
   "execution_count": 63,
   "metadata": {},
   "outputs": [
    {
     "data": {
      "image/png": "[encoded data removed]",
      "text/plain": [
       "<Figure size 432x288 with 1 Axes>"
      ]
     },
     "metadata": {
      "needs_background": "light"
     },
     "output_type": "display_data"
    }
   ],
   "source": [
    "x_axis = southern_hemisphere['lat']\n",
    "data = southern_hemisphere['humidity']\n",
    "\n",
    "\n",
    "(slope, intercept, rvalue, pvalue, stderr) = linregress(x_axis, data)\n",
    "regress_values = x_axis * slope + intercept\n",
    "line_eq = \"y = \" + str(round(slope,2)) + \"x + \" + str(round(intercept,2))\n",
    "\n",
    "plt.plot(x_axis,regress_values,\"r-\")\n",
    "plt.annotate(line_eq,(-50,20),fontsize=15,color=\"red\")\n",
    "\n",
    "plt.scatter(x_axis, data, marker='.')\n",
    "plt.title('Southern Hemisphere - Humidity (%) vs. Latitude')\n",
    "plt.xlabel('Latitude')\n",
    "plt.ylabel('Humidity (%)')\n",
    "plt.savefig('Southern Hemisphere - Humidity (%) vs. Latitude.png')"
   ]
  },
  {
   "cell_type": "markdown",
   "metadata": {},
   "source": [
    "####  Northern Hemisphere - Cloudiness (%) vs. Latitude Linear Regression"
   ]
  },
  {
   "cell_type": "code",
   "execution_count": 62,
   "metadata": {},
   "outputs": [
    {
     "data": {
      "image/png": "[encoded data removed]",
      "text/plain": [
       "<Figure size 432x288 with 1 Axes>"
      ]
     },
     "metadata": {
      "needs_background": "light"
     },
     "output_type": "display_data"
    }
   ],
   "source": [
    "x_axis = northern_hemisphere['lat']\n",
    "data = northern_hemisphere['cloudiness']\n",
    "\n",
    "(slope, intercept, rvalue, pvalue, stderr) = linregress(x_axis, data)\n",
    "regress_values = x_axis * slope + intercept\n",
    "line_eq = \"y = \" + str(round(slope,2)) + \"x + \" + str(round(intercept,2))\n",
    "\n",
    "plt.plot(x_axis,regress_values,\"r-\")\n",
    "plt.annotate(line_eq,(6,10),fontsize=15,color=\"red\")\n",
    "plt.scatter(x_axis, data, marker='.')\n",
    "plt.title('Northern Hemisphere - Cloudiness (%) vs. Latitude')\n",
    "plt.xlabel('Latitude')\n",
    "plt.ylabel('Cloudiness (%)')\n",
    "plt.savefig('Northern Hemisphere - Cloudiness (%) vs. Latitude.png')"
   ]
  },
  {
   "cell_type": "markdown",
   "metadata": {},
   "source": [
    "####  Southern Hemisphere - Cloudiness (%) vs. Latitude Linear Regression"
   ]
  },
  {
   "cell_type": "code",
   "execution_count": 61,
   "metadata": {},
   "outputs": [
    {
     "data": {
      "image/png": "[encoded data removed]",
      "text/plain": [
       "<Figure size 432x288 with 1 Axes>"
      ]
     },
     "metadata": {
      "needs_background": "light"
     },
     "output_type": "display_data"
    }
   ],
   "source": [
    "x_axis = southern_hemisphere['lat']\n",
    "data = southern_hemisphere['cloudiness']\n",
    "\n",
    "(slope, intercept, rvalue, pvalue, stderr) = linregress(x_axis, data)\n",
    "regress_values = x_axis * slope + intercept\n",
    "line_eq = \"y = \" + str(round(slope,2)) + \"x + \" + str(round(intercept,2))\n",
    "\n",
    "plt.plot(x_axis,regress_values,\"r-\")\n",
    "plt.annotate(line_eq,(-50,0),fontsize=15,color=\"red\")\n",
    "\n",
    "plt.scatter(x_axis, data, marker='.')\n",
    "plt.title('Southern Hemisphere - Cloudiness (%) vs. Latitude')\n",
    "plt.xlabel('Latitude')\n",
    "plt.ylabel('Cloudiness (%)')\n",
    "plt.savefig('Southern Hemisphere - Cloudiness (%) vs. Latitude.png')"
   ]
  },
  {
   "cell_type": "markdown",
   "metadata": {},
   "source": [
    "####  Northern Hemisphere - Wind Speed (mph) vs. Latitude Linear Regression"
   ]
  },
  {
   "cell_type": "code",
   "execution_count": 60,
   "metadata": {},
   "outputs": [
    {
     "data": {
      "image/png": "[encoded data removed]",
      "text/plain": [
       "<Figure size 432x288 with 1 Axes>"
      ]
     },
     "metadata": {
      "needs_background": "light"
     },
     "output_type": "display_data"
    }
   ],
   "source": [
    "x_axis = northern_hemisphere['lat']\n",
    "data = northern_hemisphere['wind_speed']\n",
    "\n",
    "\n",
    "(slope, intercept, rvalue, pvalue, stderr) = linregress(x_axis, data)\n",
    "regress_values = x_axis * slope + intercept\n",
    "line_eq = \"y = \" + str(round(slope,2)) + \"x + \" + str(round(intercept,2))\n",
    "\n",
    "plt.plot(x_axis,regress_values,\"r-\")\n",
    "plt.annotate(line_eq,(6,10),fontsize=15,color=\"red\")\n",
    "\n",
    "plt.scatter(x_axis, data, marker='.')\n",
    "plt.title('Northern Hemisphere - Wind Speed (mph) vs. Latitude')\n",
    "plt.xlabel('Latitude')\n",
    "plt.ylabel('Wind Speed (mph)')\n",
    "plt.savefig('Northern Hemisphere - Wind Speed (mph) vs. Latitude.png')"
   ]
  },
  {
   "cell_type": "markdown",
   "metadata": {},
   "source": [
    "####  Southern Hemisphere - Wind Speed (mph) vs. Latitude Linear Regression"
   ]
  },
  {
   "cell_type": "code",
   "execution_count": 59,
   "metadata": {},
   "outputs": [
    {
     "data": {
      "image/png": "[encoded data removed]",
      "text/plain": [
       "<Figure size 432x288 with 1 Axes>"
      ]
     },
     "metadata": {
      "needs_background": "light"
     },
     "output_type": "display_data"
    }
   ],
   "source": [
    "x_axis = southern_hemisphere['lat']\n",
    "data = southern_hemisphere['wind_speed']\n",
    "\n",
    "(slope, intercept, rvalue, pvalue, stderr) = linregress(x_axis, data)\n",
    "regress_values = x_axis * slope + intercept\n",
    "line_eq = \"y = \" + str(round(slope,2)) + \"x + \" + str(round(intercept,2))\n",
    "\n",
    "plt.plot(x_axis,regress_values,\"r-\")\n",
    "plt.annotate(line_eq,(-50,0),fontsize=15,color=\"red\")\n",
    "\n",
    "plt.scatter(x_axis, data, marker='.')\n",
    "plt.title('Southern Hemisphere - Wind Speed (mph) vs. Latitude')\n",
    "plt.xlabel('Latitude')\n",
    "plt.ylabel('Wind Speed (mph)')\n",
    "plt.savefig('Southern Hemisphere - Wind Speed (mph) vs. Latitude.png')"
   ]
  },
  {
   "cell_type": "code",
   "execution_count": null,
   "metadata": {},
   "outputs": [],
   "source": []
  }
 ],
 "metadata": {
  "anaconda-cloud": {},
  "kernel_info": {
   "name": "python3"
  },
  "kernelspec": {
   "display_name": "Python 3",
   "language": "python",
   "name": "python3"
  },
  "language_info": {
   "codemirror_mode": {
    "name": "ipython",
    "version": 3
   },
   "file_extension": ".py",
   "mimetype": "text/x-python",
   "name": "python",
   "nbconvert_exporter": "python",
   "pygments_lexer": "ipython3",
   "version": "3.8.8"
  },
  "latex_envs": {
   "LaTeX_envs_menu_present": true,
   "autoclose": false,
   "autocomplete": true,
   "bibliofile": "biblio.bib",
   "cite_by": "apalike",
   "current_citInitial": 1,
   "eqLabelWithNumbers": true,
   "eqNumInitial": 1,
   "hotkeys": {
    "equation": "Ctrl-E",
    "itemize": "Ctrl-I"
   },
   "labels_anchors": false,
   "latex_user_defs": false,
   "report_style_numbering": false,
   "user_envs_cfg": false
  },
  "nteract": {
   "version": "0.12.3"
  }
 },
 "nbformat": 4,
 "nbformat_minor": 2
}
